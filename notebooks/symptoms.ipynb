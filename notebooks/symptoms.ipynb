{
 "cells": [
  {
   "cell_type": "code",
   "execution_count": null,
   "metadata": {},
   "outputs": [],
   "source": [
    "import json\n",
    "import requests\n",
    "\n",
    "\n",
    "def get_data(password, concept_list, type_of_concepts):\n",
    "    concept_list = '|'.join(concept_list)\n",
    "    \n",
    "    response = requests.get('https://cloud.bolooba.com:25556/symptoms_data/' + password + '/' + concept_list + '/' + type_of_concepts)\n",
    "    if response.status_code == 200:\n",
    "        data = dict(response.json())\n",
    "        \n",
    "    else:\n",
    "        data = {'error': response.status_code}\n",
    "        data = dict(data)\n",
    "    return data"
   ]
  }
 ],
 "metadata": {
  "kernelspec": {
   "display_name": "Python 3",
   "language": "python",
   "name": "python3"
  },
  "language_info": {
   "codemirror_mode": {
    "name": "ipython",
    "version": 3
   },
   "file_extension": ".py",
   "mimetype": "text/x-python",
   "name": "python",
   "nbconvert_exporter": "python",
   "pygments_lexer": "ipython3",
   "version": "3.6.9"
  }
 },
 "nbformat": 4,
 "nbformat_minor": 4
}
